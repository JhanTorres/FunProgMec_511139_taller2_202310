{
 "cells": [
  {
   "cell_type": "markdown",
   "id": "f7b5e33e",
   "metadata": {},
   "source": [
    "# SOLUCION TALLER 2\n",
    "## Fundamentos de programación\n",
    "- Jhan David Torres Espitia   \n",
    "- ID:000511139\n",
    "- email: jhan.torres@upb.edu.co"
   ]
  },
  {
   "cell_type": "code",
   "execution_count": 23,
   "id": "915b887f",
   "metadata": {},
   "outputs": [
    {
     "name": "stdout",
     "output_type": "stream",
     "text": [
      "19.0\n",
      "47.0\n"
     ]
    }
   ],
   "source": [
    "#PROBLEMA 1\n",
    "##Asignar variables\n",
    "x = 5\n",
    "v = 4\n",
    "a = -2\n",
    "t_1 = 3\n",
    "t_2 = 10\n",
    "###Solución\n",
    "x_1 = x + v * t_1 + 0.5 * a **2\n",
    "x_2 = x + v * t_2 + 0.5 * a **2\n",
    "print(x_1)\n",
    "print(x_2)"
   ]
  },
  {
   "cell_type": "code",
   "execution_count": 12,
   "id": "d474f080",
   "metadata": {},
   "outputs": [
    {
     "name": "stdout",
     "output_type": "stream",
     "text": [
      "2.8284271247461903\n",
      "7.810249675906654\n"
     ]
    }
   ],
   "source": [
    "#PROBLEMA 2 \n",
    "##Asignar variables 1\n",
    "import math\n",
    "x_1 = 1\n",
    "y_1 = 1 \n",
    "x_2 = -1\n",
    "y_2 = -1\n",
    "###Solución\n",
    "d_1 = math.sqrt((x_2 - x_1)**2 + (y_2 - y_1)**2)\n",
    "print(d_1)\n",
    "\n",
    "##Asignar variables 2\n",
    "x_1 = -2\n",
    "y_1 = 0\n",
    "x_2 = 4\n",
    "y_2 = 5\n",
    "###Solución\n",
    "d_2 = math.sqrt((x_2 - x_1)**2 + (y_2 - y_1)**2)\n",
    "print(d_2)"
   ]
  },
  {
   "cell_type": "code",
   "execution_count": 13,
   "id": "f5c26309",
   "metadata": {},
   "outputs": [
    {
     "name": "stdout",
     "output_type": "stream",
     "text": [
      "True\n",
      "False\n",
      "True\n",
      "True\n",
      "True\n",
      "False\n",
      "True\n",
      "True\n",
      "True\n",
      "False\n"
     ]
    }
   ],
   "source": [
    "#Problema 3\n",
    "##Asignar variables\n",
    "A = -3\n",
    "B = 3\n",
    "C = 4\n",
    "D = 0\n",
    "###Solución\n",
    "print(A <= B)\n",
    "print(B > C)\n",
    "print(A != C and D > A)\n",
    "print(B < C or B > A)\n",
    "print(A != D)\n",
    "print(A - D > C)\n",
    "print(D + C >= A * B)\n",
    "print(A * C == 10 or B * A < 3)\n",
    "print(B * C + D > D * 5)\n",
    "print(2 * A == - D * 4)\n"
   ]
  }
 ],
 "metadata": {
  "kernelspec": {
   "display_name": "Python 3 (ipykernel)",
   "language": "python",
   "name": "python3"
  },
  "language_info": {
   "codemirror_mode": {
    "name": "ipython",
    "version": 3
   },
   "file_extension": ".py",
   "mimetype": "text/x-python",
   "name": "python",
   "nbconvert_exporter": "python",
   "pygments_lexer": "ipython3",
   "version": "3.11.2"
  }
 },
 "nbformat": 4,
 "nbformat_minor": 5
}
